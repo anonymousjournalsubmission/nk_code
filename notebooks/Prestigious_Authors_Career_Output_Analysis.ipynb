{
 "cells": [
  {
   "cell_type": "markdown",
   "metadata": {},
   "source": [
    "# Analyzing the relationship between literary topics and literary prestige accross time\n",
    "\n",
    "\n",
    "We will try to see if:\n",
    "- The distribution of topics changes between prestigious and non-prestigious writers\n",
    "- How does a prestigious authors' engagement with certain topics changes before and after their literary consecration\n",
    "- Does the relationship between topics and prestige change over time ?\n",
    "\n",
    "\n",
    "## 1. Data preparation\n",
    "\n",
    "### 1.1. Load raw data for author selection"
   ]
  },
  {
   "cell_type": "code",
   "execution_count": 1,
   "metadata": {},
   "outputs": [],
   "source": [
    "import pandas as pd\n",
    "import pickle\n",
    "with open('data/preprocessed_dump.pkl', 'rb') as fp:\n",
    "    processed_content = pickle.load(fp)\n",
    "    \n",
    "preproc = {}\n",
    "for folder in processed_content.keys():\n",
    "    for i, entry in enumerate(processed_content[folder]):\n",
    "        preproc[folder + '-' + str(i)] = '. '.join(entry['filtered_content'])\n",
    "        \n",
    "original = {}\n",
    "for folder in processed_content.keys():\n",
    "    for i, entry in enumerate(processed_content[folder]):\n",
    "        original[folder + '-' + str(i)] = entry['content']\n",
    "\n"
   ]
  },
  {
   "cell_type": "code",
   "execution_count": 2,
   "metadata": {},
   "outputs": [],
   "source": [
    "ori_df = pd.DataFrame.from_dict(original, orient=\"index\")\n",
    "ori_df['year']=list(ori_df.index.str[:4])\n",
    "ori_df['year']=ori_df['year'].astype(int)\n",
    "ori_df['no_space'] = ori_df[0].apply(lambda x: x.replace(' ', ''))"
   ]
  },
  {
   "cell_type": "markdown",
   "metadata": {},
   "source": [
    "We create a simple heuristic to determine if a text was written by a certain author by checking if his name appears at the beginning of the novel (none of the names are common enough that they would be used to name a character)"
   ]
  },
  {
   "cell_type": "code",
   "execution_count": 3,
   "metadata": {},
   "outputs": [],
   "source": [
    "def is_author_present(author, text):\n",
    "    if author in text and text.find(author) < 1000:\n",
    "        return True\n",
    "    else:\n",
    "        return False"
   ]
  },
  {
   "cell_type": "code",
   "execution_count": 4,
   "metadata": {},
   "outputs": [
    {
     "data": {
      "text/html": [
       "<div>\n",
       "<style scoped>\n",
       "    .dataframe tbody tr th:only-of-type {\n",
       "        vertical-align: middle;\n",
       "    }\n",
       "\n",
       "    .dataframe tbody tr th {\n",
       "        vertical-align: top;\n",
       "    }\n",
       "\n",
       "    .dataframe thead th {\n",
       "        text-align: right;\n",
       "    }\n",
       "</style>\n",
       "<table border=\"1\" class=\"dataframe\">\n",
       "  <thead>\n",
       "    <tr style=\"text-align: right;\">\n",
       "      <th></th>\n",
       "      <th>0</th>\n",
       "      <th>year</th>\n",
       "      <th>no_space</th>\n",
       "    </tr>\n",
       "  </thead>\n",
       "  <tbody>\n",
       "    <tr>\n",
       "      <th>1977-09-0</th>\n",
       "      <td>단편소설   각이  깊었다.   모질게  눌러껐다.   《어서  오시오.》   열 ...</td>\n",
       "      <td>1977</td>\n",
       "      <td>단편소설각이깊었다.모질게눌러껐다.《어서오시오.》열풍었다.니…)채만식직장장을찾아가는소...</td>\n",
       "    </tr>\n",
       "    <tr>\n",
       "      <th>1981-01-2</th>\n",
       "      <td>단편소설   빨간 수기   누구든지  포연이  스민  전선생활을  맛본  사람이 면...</td>\n",
       "      <td>1981</td>\n",
       "      <td>단편소설빨간수기누구든지포연이스민전선생활을맛본사람이면이말의참뜻을리해할수있을것이다.이를...</td>\n",
       "    </tr>\n",
       "    <tr>\n",
       "      <th>1981-09-0</th>\n",
       "      <td>단편소설   정다운 창문들   사택마을의  례사로운  하루저녁도  저물어가고있 었다...</td>\n",
       "      <td>1981</td>\n",
       "      <td>단편소설정다운창문들사택마을의례사로운하루저녁도저물어가고있었다.즐거운로동의하루를마치고돌...</td>\n",
       "    </tr>\n",
       "    <tr>\n",
       "      <th>1982-07-0</th>\n",
       "      <td>단편소설   지팽이   장지삼은  한달열흘간의  료양생활을  마치고  돌 아  온 ...</td>\n",
       "      <td>1982</td>\n",
       "      <td>단편소설지팽이장지삼은한달열흘간의료양생활을마치고돌아온얼마전까지만하여도기분이대단히좋았다...</td>\n",
       "    </tr>\n",
       "    <tr>\n",
       "      <th>1985-11-0</th>\n",
       "      <td>당비서의 밤길   단편소설   박상규는  매일같이  눈코뜰새  없이  들볶이는  생...</td>\n",
       "      <td>1985</td>\n",
       "      <td>당비서의밤길단편소설박상규는매일같이눈코뜰새없이들볶이는생활에쩌들고습관된지라오늘도현장에서...</td>\n",
       "    </tr>\n",
       "  </tbody>\n",
       "</table>\n",
       "</div>"
      ],
      "text/plain": [
       "                                                           0  year  \\\n",
       "1977-09-0  단편소설   각이  깊었다.   모질게  눌러껐다.   《어서  오시오.》   열 ...  1977   \n",
       "1981-01-2  단편소설   빨간 수기   누구든지  포연이  스민  전선생활을  맛본  사람이 면...  1981   \n",
       "1981-09-0  단편소설   정다운 창문들   사택마을의  례사로운  하루저녁도  저물어가고있 었다...  1981   \n",
       "1982-07-0  단편소설   지팽이   장지삼은  한달열흘간의  료양생활을  마치고  돌 아  온 ...  1982   \n",
       "1985-11-0  당비서의 밤길   단편소설   박상규는  매일같이  눈코뜰새  없이  들볶이는  생...  1985   \n",
       "\n",
       "                                                    no_space  \n",
       "1977-09-0  단편소설각이깊었다.모질게눌러껐다.《어서오시오.》열풍었다.니…)채만식직장장을찾아가는소...  \n",
       "1981-01-2  단편소설빨간수기누구든지포연이스민전선생활을맛본사람이면이말의참뜻을리해할수있을것이다.이를...  \n",
       "1981-09-0  단편소설정다운창문들사택마을의례사로운하루저녁도저물어가고있었다.즐거운로동의하루를마치고돌...  \n",
       "1982-07-0  단편소설지팽이장지삼은한달열흘간의료양생활을마치고돌아온얼마전까지만하여도기분이대단히좋았다...  \n",
       "1985-11-0  당비서의밤길단편소설박상규는매일같이눈코뜰새없이들볶이는생활에쩌들고습관된지라오늘도현장에서...  "
      ]
     },
     "execution_count": 4,
     "metadata": {},
     "output_type": "execute_result"
    }
   ],
   "source": [
    "ori_df[ori_df['no_space'].apply(lambda x: is_author_present('리신현', x))]"
   ]
  },
  {
   "cell_type": "markdown",
   "metadata": {},
   "source": [
    "We now create a list of prestigious authors, along with the date of their 'canonization' (their admission into the 4.15 LPU).\n",
    "We'll print the number of short stories we have for each writer."
   ]
  },
  {
   "cell_type": "code",
   "execution_count": 5,
   "metadata": {},
   "outputs": [],
   "source": [
    "author_by_year = {'백남룡': 1985,\n",
    "                 '리신현': 1998,\n",
    "                 '김삼복': 1998,\n",
    "                 '윤경찬': 2013,\n",
    "                 '안동춘': 1990,\n",
    "                 '탁숙본': 2013,\n",
    "                 '백보흠': 1989,\n",
    "                 '정기종': 1992,\n",
    "                 '김수경': 1989,\n",
    "                 '림봉철': 2015,\n",
    "                 '리동구': 2002,\n",
    "                 '박태수': 2000,\n",
    "                 '전흥식': 2012,\n",
    "                 '최영조': 2011,\n",
    "                 '윤정길': 2014,\n",
    "                 '진재환': 1984,\n",
    "                 '조권일': 2018,\n",
    "                 '허춘식': 1997,\n",
    "                 '권정웅': 1969,\n",
    "                 '김병훈': 1969,\n",
    "                 '남대현': 1992,\n",
    "                 '리종렬': 1981,\n",
    "                 '박룡운': 2001,\n",
    "                 '석윤기': 1969,\n",
    "                 '최학수': 1976,\n",
    "                 '현승걸': 1976,\n",
    "                 }"
   ]
  },
  {
   "cell_type": "code",
   "execution_count": 6,
   "metadata": {},
   "outputs": [
    {
     "name": "stdout",
     "output_type": "stream",
     "text": [
      "백남룡\t1985\t10\n",
      "리신현\t1998\t5\n",
      "김삼복\t1998\t4\n",
      "윤경찬\t2013\t8\n",
      "안동춘\t1990\t11\n",
      "탁숙본\t2013\t10\n",
      "백보흠\t1989\t8\n",
      "정기종\t1992\t7\n",
      "김수경\t1989\t1\n",
      "림봉철\t2015\t7\n",
      "리동구\t2002\t2\n",
      "박태수\t2000\t3\n",
      "전흥식\t2012\t5\n",
      "최영조\t2011\t2\n",
      "윤정길\t2014\t1\n",
      "진재환\t1984\t2\n",
      "조권일\t2018\t1\n",
      "허춘식\t1997\t1\n",
      "권정웅\t1969\t4\n",
      "김병훈\t1969\t4\n",
      "남대현\t1992\t4\n",
      "리종렬\t1981\t2\n",
      "박룡운\t2001\t0\n",
      "석윤기\t1969\t0\n",
      "최학수\t1976\t3\n",
      "현승걸\t1976\t3\n"
     ]
    }
   ],
   "source": [
    "for author, year in author_by_year.items():\n",
    "    print(f'{author}\\t{year}\\t{sum(ori_df[\"no_space\"].apply(lambda x: is_author_present(author, x)))}')"
   ]
  },
  {
   "cell_type": "markdown",
   "metadata": {},
   "source": [
    "### 1.2. Rerun topic modelling"
   ]
  },
  {
   "cell_type": "code",
   "execution_count": 7,
   "metadata": {},
   "outputs": [],
   "source": [
    "import pickle\n",
    "with open('data/preprocessed_dump.pkl', 'rb') as fp:\n",
    "    processed_content = pickle.load(fp)"
   ]
  },
  {
   "cell_type": "code",
   "execution_count": 8,
   "metadata": {},
   "outputs": [
    {
     "name": "stdout",
     "output_type": "stream",
     "text": [
      "Topic 0:\n",
      "아버지, 선생님, 선생, 처녀, 남편, 학생, 조선, 바다, 청년, 일본, 조국, 학교, 연구, 교원, 대학, 교수, 안해, 나무, 할아버지, 편지, 고향, 아이들, 민족, 아들, 할머니, 그림, 의사, 소년, 왜놈, 인간, 노래, 병원, 공부, 작품, 마을, 아이, 세상, 환자, 연구사, 오빠, 딸애, 언니, 교장, 시절, 옥이, 아름답, 손님, 동포, 배우, 박사\n",
      "Topic 1:\n",
      "장군, 동지, 김정숙, 말씀, 김정일, 김일성, 인민, 어머님, 사령관, 경애, 최고, 일군, 김정은, 드리, 혁명, 해방, 공장, 왜놈, 위대, 부대, 모시, 건설, 삼은, 주시, 작전, 승용차, 조선, 전선, 장령, 평양, 발전소, 전쟁, 계시, 사령부, 민족, 아들, 병사, 전사, 문건, 군인, 사진, 음성, 보시, 조국, 웃으시였다, 싸우, 세상, 우러르, 가시, 김책\n",
      "Topic 2:\n",
      "어머니, 아버지, 아들, 엄마, 남편, 할머니, 고향, 마을, 아저씨, 자식, 아이, 어머님, 편지, 동생, 오빠, 옥이, 할아버지, 철이, 애가, 학교, 아이들, 위원장, 남이, 부모, 세상, 시어머니, 조국, 부엌, 삼은, 집안, 애기, 마당, 병사, 키우, 안해, 행복, 며느리, 옥녀, 군대, 나무, 아주머니, 에미, 시절, 대문, 염소, 전쟁, 학원, 데리, 사진, 가정\n",
      "Topic 3:\n",
      "수령, 말씀, 김정일, 어버이, 동지, 인민, 위대, 지도자, 일군, 친애, 지도자동지, 친애하는, 드리, 혁명, 위원장, 부관, 조국, 력사, 승용차, 관리, 경애, 주석, 민족, 조선, 계시, 음성, 집무실, 모시, 보시, 형상, 사업, 책임, 작품, 작가, 주시, 평양, 최현, 세계, 김일성, 강냉이, 농사, 농장, 농업, 투사, 전쟁, 인간, 학자, 서기, 현지, 백두산\n",
      "Topic 4:\n",
      "지배인, 공장, 직장, 기사, 생산, 기술, 동지, 설계, 당비서, 탄광, 비서, 처녀, 설비, 광산, 기중기, 청년, 건설, 도면, 현장, 일군, 책임, 사업, 기계, 자재, 기업소, 소조원, 건설장, 지도원, 발전소, 동자, 조립, 운전, 계획, 장이, 과장, 시험, 제기, 작업, 탄부, 사무실, 석탄, 혁신, 연구, 장의, 회의, 운전사, 전화, 김정일, 사업소, 합숙\n",
      "Topic 5:\n",
      "아바이, 반장, 분조, 위원장, 관리, 분조장, 농장, 작업반, 처녀, 농사, 비서, 뜨락, 모판, 소조원, 농장원, 비료, 나무, 거름, 마을, 강냉이, 분조원, 작업반장, 작업, 기계, 감자, 위원회, 소장, 청년, 수다, 직장, 자전거, 모내기, 안해, 삼은, 아주머니, 수확, 기사, 일군, 돼지, 운전수, 담배, 생산, 고장, 당비서, 달구지, 사업, 이삭, 논두렁, 장이, 바다\n",
      "Topic 6:\n",
      "중대장, 처녀, 소대장, 중대, 동지, 전사, 분대장, 병사, 소대, 대장, 전투, 대원, 전쟁, 고지, 분대, 사령관, 전선, 군관, 군인, 돌격대, 땅크, 대대장, 명령, 부대, 참모, 대대, 지휘관, 편지, 수류탄, 임무, 최고, 동문, 훈련, 아바이, 노래, 상등병, 막장, 군복, 사단장, 옥이, 사격, 고향, 전우, 의소, 군대, 나무, 포탄, 다리, 전호, 공격\n"
     ]
    }
   ],
   "source": [
    "import re\n",
    "\n",
    "df = pd.DataFrame.from_dict(preproc, orient=\"index\")\n",
    "\n",
    "def display_topics(model, feature_names, no_top_words):\n",
    "    for topic_idx, topic in enumerate(model.components_):\n",
    "        print(\"Topic %d:\" % (topic_idx))\n",
    "        print(\", \".join([feature_names[i] for i in topic.argsort()[:-no_top_words - 1:-1]]))\n",
    "from sklearn.feature_extraction.text import TfidfVectorizer\n",
    "from sklearn.decomposition import NMF\n",
    "\n",
    "vectorizer = TfidfVectorizer(max_df=0.75, min_df=10, max_features=3000, stop_words=['로이', '하', '는', '은', '를', '가', '이', '을', '하시', '머니', '리당', ''])\n",
    "X = vectorizer.fit_transform([re.sub('\\.*께', '', _) for _ in df[0].to_list()])\n",
    "nmf = NMF(n_components=7, init = 'nndsvd').fit(X)\n",
    "display_topics(nmf, vectorizer.get_feature_names(), 50)\n"
   ]
  },
  {
   "cell_type": "code",
   "execution_count": 9,
   "metadata": {},
   "outputs": [],
   "source": [
    "nmf_output = nmf.transform(X)"
   ]
  },
  {
   "cell_type": "markdown",
   "metadata": {},
   "source": [
    "## 2. Topic distribution for canonized authors (before and after canonization)"
   ]
  },
  {
   "cell_type": "code",
   "execution_count": 11,
   "metadata": {},
   "outputs": [],
   "source": [
    "indices_stars = []\n",
    "for author in author_by_year.keys():\n",
    "    indices_stars += [i for i, found in enumerate(list(ori_df['no_space'].apply(lambda x: is_author_present(author, x)))) if found]"
   ]
  },
  {
   "cell_type": "code",
   "execution_count": 12,
   "metadata": {},
   "outputs": [
    {
     "data": {
      "text/html": [
       "<div>\n",
       "<style scoped>\n",
       "    .dataframe tbody tr th:only-of-type {\n",
       "        vertical-align: middle;\n",
       "    }\n",
       "\n",
       "    .dataframe tbody tr th {\n",
       "        vertical-align: top;\n",
       "    }\n",
       "\n",
       "    .dataframe thead th {\n",
       "        text-align: right;\n",
       "    }\n",
       "</style>\n",
       "<table border=\"1\" class=\"dataframe\">\n",
       "  <thead>\n",
       "    <tr style=\"text-align: right;\">\n",
       "      <th></th>\n",
       "      <th>Education</th>\n",
       "      <th>Family</th>\n",
       "      <th>Industry</th>\n",
       "      <th>Agriculture</th>\n",
       "      <th>Military</th>\n",
       "      <th>Leaders</th>\n",
       "      <th>dominant_topic</th>\n",
       "    </tr>\n",
       "  </thead>\n",
       "  <tbody>\n",
       "    <tr>\n",
       "      <th>0</th>\n",
       "      <td>0.00</td>\n",
       "      <td>0.03</td>\n",
       "      <td>0.16</td>\n",
       "      <td>0.10</td>\n",
       "      <td>0.00</td>\n",
       "      <td>0.00</td>\n",
       "      <td>Industry</td>\n",
       "    </tr>\n",
       "    <tr>\n",
       "      <th>1</th>\n",
       "      <td>0.11</td>\n",
       "      <td>0.09</td>\n",
       "      <td>0.03</td>\n",
       "      <td>0.00</td>\n",
       "      <td>0.00</td>\n",
       "      <td>0.00</td>\n",
       "      <td>Education</td>\n",
       "    </tr>\n",
       "    <tr>\n",
       "      <th>2</th>\n",
       "      <td>0.00</td>\n",
       "      <td>0.00</td>\n",
       "      <td>0.30</td>\n",
       "      <td>0.00</td>\n",
       "      <td>0.00</td>\n",
       "      <td>0.00</td>\n",
       "      <td>Industry</td>\n",
       "    </tr>\n",
       "    <tr>\n",
       "      <th>3</th>\n",
       "      <td>0.06</td>\n",
       "      <td>0.18</td>\n",
       "      <td>0.00</td>\n",
       "      <td>0.01</td>\n",
       "      <td>0.00</td>\n",
       "      <td>0.00</td>\n",
       "      <td>Family</td>\n",
       "    </tr>\n",
       "    <tr>\n",
       "      <th>4</th>\n",
       "      <td>0.04</td>\n",
       "      <td>0.06</td>\n",
       "      <td>0.23</td>\n",
       "      <td>0.01</td>\n",
       "      <td>0.00</td>\n",
       "      <td>0.00</td>\n",
       "      <td>Industry</td>\n",
       "    </tr>\n",
       "    <tr>\n",
       "      <th>...</th>\n",
       "      <td>...</td>\n",
       "      <td>...</td>\n",
       "      <td>...</td>\n",
       "      <td>...</td>\n",
       "      <td>...</td>\n",
       "      <td>...</td>\n",
       "      <td>...</td>\n",
       "    </tr>\n",
       "    <tr>\n",
       "      <th>103</th>\n",
       "      <td>0.01</td>\n",
       "      <td>0.00</td>\n",
       "      <td>0.00</td>\n",
       "      <td>0.00</td>\n",
       "      <td>0.00</td>\n",
       "      <td>0.26</td>\n",
       "      <td>Leaders</td>\n",
       "    </tr>\n",
       "    <tr>\n",
       "      <th>104</th>\n",
       "      <td>0.04</td>\n",
       "      <td>0.00</td>\n",
       "      <td>0.01</td>\n",
       "      <td>0.00</td>\n",
       "      <td>0.03</td>\n",
       "      <td>0.11</td>\n",
       "      <td>Leaders</td>\n",
       "    </tr>\n",
       "    <tr>\n",
       "      <th>105</th>\n",
       "      <td>0.03</td>\n",
       "      <td>0.02</td>\n",
       "      <td>0.05</td>\n",
       "      <td>0.00</td>\n",
       "      <td>0.03</td>\n",
       "      <td>0.12</td>\n",
       "      <td>Leaders</td>\n",
       "    </tr>\n",
       "    <tr>\n",
       "      <th>106</th>\n",
       "      <td>0.05</td>\n",
       "      <td>0.02</td>\n",
       "      <td>0.01</td>\n",
       "      <td>0.00</td>\n",
       "      <td>0.03</td>\n",
       "      <td>0.12</td>\n",
       "      <td>Leaders</td>\n",
       "    </tr>\n",
       "    <tr>\n",
       "      <th>107</th>\n",
       "      <td>0.07</td>\n",
       "      <td>0.00</td>\n",
       "      <td>0.00</td>\n",
       "      <td>0.00</td>\n",
       "      <td>0.00</td>\n",
       "      <td>0.25</td>\n",
       "      <td>Leaders</td>\n",
       "    </tr>\n",
       "  </tbody>\n",
       "</table>\n",
       "<p>108 rows × 7 columns</p>\n",
       "</div>"
      ],
      "text/plain": [
       "     Education  Family  Industry  Agriculture  Military  Leaders  \\\n",
       "0         0.00    0.03      0.16         0.10      0.00     0.00   \n",
       "1         0.11    0.09      0.03         0.00      0.00     0.00   \n",
       "2         0.00    0.00      0.30         0.00      0.00     0.00   \n",
       "3         0.06    0.18      0.00         0.01      0.00     0.00   \n",
       "4         0.04    0.06      0.23         0.01      0.00     0.00   \n",
       "..         ...     ...       ...          ...       ...      ...   \n",
       "103       0.01    0.00      0.00         0.00      0.00     0.26   \n",
       "104       0.04    0.00      0.01         0.00      0.03     0.11   \n",
       "105       0.03    0.02      0.05         0.00      0.03     0.12   \n",
       "106       0.05    0.02      0.01         0.00      0.03     0.12   \n",
       "107       0.07    0.00      0.00         0.00      0.00     0.25   \n",
       "\n",
       "    dominant_topic  \n",
       "0         Industry  \n",
       "1        Education  \n",
       "2         Industry  \n",
       "3           Family  \n",
       "4         Industry  \n",
       "..             ...  \n",
       "103        Leaders  \n",
       "104        Leaders  \n",
       "105        Leaders  \n",
       "106        Leaders  \n",
       "107        Leaders  \n",
       "\n",
       "[108 rows x 7 columns]"
      ]
     },
     "execution_count": 12,
     "metadata": {},
     "output_type": "execute_result"
    }
   ],
   "source": [
    "import numpy as np\n",
    "topics = ['Education', 'Leaders (1)', 'Family', 'Leaders (2)', 'Industry', 'Agriculture', 'Military']\n",
    "topic_res = pd.DataFrame(np.round(nmf_output[indices_stars], 2), columns=topics)\n",
    "topic_res['Leaders'] = topic_res['Leaders (1)'] + topic_res['Leaders (2)'] \n",
    "topic_res.drop([ 'Leaders (1)', 'Leaders (2)'], inplace=True, axis=1)\n",
    "topic_res['dominant_topic'] = [topic_res.columns[max] for max in np.argmax(topic_res.values, axis=1)]\n",
    "topic_res"
   ]
  },
  {
   "cell_type": "code",
   "execution_count": 13,
   "metadata": {},
   "outputs": [
    {
     "data": {
      "text/plain": [
       "Leaders        41\n",
       "Education      21\n",
       "Military       19\n",
       "Industry       18\n",
       "Agriculture     5\n",
       "Family          4\n",
       "Name: dominant_topic, dtype: int64"
      ]
     },
     "execution_count": 13,
     "metadata": {},
     "output_type": "execute_result"
    }
   ],
   "source": [
    "topic_res['dominant_topic'].value_counts()"
   ]
  },
  {
   "cell_type": "markdown",
   "metadata": {},
   "source": [
    "### 2.1. Distribution by dominant topic"
   ]
  },
  {
   "cell_type": "code",
   "execution_count": 14,
   "metadata": {},
   "outputs": [
    {
     "data": {
      "text/plain": [
       "<matplotlib.patches.Circle at 0x24ab41b08c8>"
      ]
     },
     "execution_count": 14,
     "metadata": {},
     "output_type": "execute_result"
    },
    {
     "data": {
      "image/png": "[encoded data removed]",
      "text/plain": [
       "<Figure size 576x576 with 1 Axes>"
      ]
     },
     "metadata": {},
     "output_type": "display_data"
    }
   ],
   "source": [
    "%matplotlib inline\n",
    "import matplotlib.pyplot as plt\n",
    "\n",
    "import matplotlib\n",
    "import matplotlib.font_manager as fm\n",
    "\n",
    "matplotlib.rc('font', family=fm.FontProperties(fname='C:\\\\Windows\\\\Fonts\\\\arial.ttf').get_name(), size=22)\n",
    "topic_columns = list(topic_res.columns)\n",
    "topic_columns.pop(topic_columns.index('dominant_topic'))\n",
    "colors_gender = ['#fc8d59','#d73027','#fee090','#e0f3f8','#4575b4','#91bfdb']\n",
    "ax=topic_res['dominant_topic'].value_counts().plot.pie(colors=colors_gender, autopct='%1.1f%%', title='', figsize=(8,8), startangle=90, pctdistance=0.82, explode=len(topic_columns)*[0.05])\n",
    "ax.set_ylabel('')\n",
    "centre_circle = plt.Circle((0,0),0.67,fc='white')\n",
    "fig = plt.gcf()\n",
    "fig.gca().add_artist(centre_circle)"
   ]
  },
  {
   "cell_type": "markdown",
   "metadata": {},
   "source": [
    "### 2.2. Distribution by topic weight"
   ]
  },
  {
   "cell_type": "code",
   "execution_count": 15,
   "metadata": {},
   "outputs": [
    {
     "data": {
      "text/plain": [
       "<matplotlib.patches.Circle at 0x24ab2e21588>"
      ]
     },
     "execution_count": 15,
     "metadata": {},
     "output_type": "execute_result"
    },
    {
     "data": {
      "image/png": "[encoded data removed]",
      "text/plain": [
       "<Figure size 576x576 with 1 Axes>"
      ]
     },
     "metadata": {},
     "output_type": "display_data"
    }
   ],
   "source": [
    "import matplotlib.pyplot as plt\n",
    "\n",
    "import matplotlib\n",
    "import matplotlib.font_manager as fm\n",
    "\n",
    "matplotlib.rc('font', family=fm.FontProperties(fname='C:\\\\Windows\\\\Fonts\\\\arial.ttf').get_name(), size=22)\n",
    "\n",
    "colors_gender = ['#fc8d59','#d73027','#e0f3f8', '#fee090','#4575b4','#91bfdb']\n",
    "ax=topic_res[topic_columns].sum().sort_values(ascending=False).plot.pie(colors=colors_gender, autopct='%1.1f%%', title='', figsize=(8,8), startangle=90, pctdistance=0.82, explode=len(topic_columns)*[0.05])\n",
    "ax.set_ylabel('')\n",
    "centre_circle = plt.Circle((0,0),0.67,fc='white')\n",
    "fig = plt.gcf()\n",
    "fig.gca().add_artist(centre_circle)"
   ]
  },
  {
   "cell_type": "markdown",
   "metadata": {},
   "source": [
    "## 3. Topic distribution for canonized writers before canonization\n",
    "\n",
    "We will consider the dominant topic for each short story"
   ]
  },
  {
   "cell_type": "code",
   "execution_count": 16,
   "metadata": {},
   "outputs": [],
   "source": [
    "indices_before_stars = []\n",
    "for author, year in author_by_year.items():\n",
    "    author_present = ori_df['no_space'].apply(lambda x: is_author_present(author, x))\n",
    "    before_famous = ori_df['year'] < year\n",
    "    indices_before_stars += [i for i, found in enumerate(list(author_present & before_famous)) if found]"
   ]
  },
  {
   "cell_type": "code",
   "execution_count": 17,
   "metadata": {},
   "outputs": [
    {
     "data": {
      "text/html": [
       "<div>\n",
       "<style scoped>\n",
       "    .dataframe tbody tr th:only-of-type {\n",
       "        vertical-align: middle;\n",
       "    }\n",
       "\n",
       "    .dataframe tbody tr th {\n",
       "        vertical-align: top;\n",
       "    }\n",
       "\n",
       "    .dataframe thead th {\n",
       "        text-align: right;\n",
       "    }\n",
       "</style>\n",
       "<table border=\"1\" class=\"dataframe\">\n",
       "  <thead>\n",
       "    <tr style=\"text-align: right;\">\n",
       "      <th></th>\n",
       "      <th>Education</th>\n",
       "      <th>Family</th>\n",
       "      <th>Industry *</th>\n",
       "      <th>Agriculture</th>\n",
       "      <th>Military *</th>\n",
       "      <th>Leaders</th>\n",
       "      <th>dominant_topic</th>\n",
       "    </tr>\n",
       "  </thead>\n",
       "  <tbody>\n",
       "    <tr>\n",
       "      <th>0</th>\n",
       "      <td>0.00</td>\n",
       "      <td>0.03</td>\n",
       "      <td>0.16</td>\n",
       "      <td>0.10</td>\n",
       "      <td>0.00</td>\n",
       "      <td>0.00</td>\n",
       "      <td>Industry *</td>\n",
       "    </tr>\n",
       "    <tr>\n",
       "      <th>1</th>\n",
       "      <td>0.11</td>\n",
       "      <td>0.09</td>\n",
       "      <td>0.03</td>\n",
       "      <td>0.00</td>\n",
       "      <td>0.00</td>\n",
       "      <td>0.00</td>\n",
       "      <td>Education</td>\n",
       "    </tr>\n",
       "    <tr>\n",
       "      <th>2</th>\n",
       "      <td>0.00</td>\n",
       "      <td>0.00</td>\n",
       "      <td>0.30</td>\n",
       "      <td>0.00</td>\n",
       "      <td>0.00</td>\n",
       "      <td>0.00</td>\n",
       "      <td>Industry *</td>\n",
       "    </tr>\n",
       "    <tr>\n",
       "      <th>3</th>\n",
       "      <td>0.06</td>\n",
       "      <td>0.18</td>\n",
       "      <td>0.00</td>\n",
       "      <td>0.01</td>\n",
       "      <td>0.00</td>\n",
       "      <td>0.00</td>\n",
       "      <td>Family</td>\n",
       "    </tr>\n",
       "    <tr>\n",
       "      <th>4</th>\n",
       "      <td>0.04</td>\n",
       "      <td>0.06</td>\n",
       "      <td>0.23</td>\n",
       "      <td>0.01</td>\n",
       "      <td>0.00</td>\n",
       "      <td>0.00</td>\n",
       "      <td>Industry *</td>\n",
       "    </tr>\n",
       "    <tr>\n",
       "      <th>...</th>\n",
       "      <td>...</td>\n",
       "      <td>...</td>\n",
       "      <td>...</td>\n",
       "      <td>...</td>\n",
       "      <td>...</td>\n",
       "      <td>...</td>\n",
       "      <td>...</td>\n",
       "    </tr>\n",
       "    <tr>\n",
       "      <th>57</th>\n",
       "      <td>0.02</td>\n",
       "      <td>0.06</td>\n",
       "      <td>0.01</td>\n",
       "      <td>0.01</td>\n",
       "      <td>0.03</td>\n",
       "      <td>0.15</td>\n",
       "      <td>Leaders</td>\n",
       "    </tr>\n",
       "    <tr>\n",
       "      <th>58</th>\n",
       "      <td>0.04</td>\n",
       "      <td>0.01</td>\n",
       "      <td>0.07</td>\n",
       "      <td>0.06</td>\n",
       "      <td>0.04</td>\n",
       "      <td>0.02</td>\n",
       "      <td>Industry *</td>\n",
       "    </tr>\n",
       "    <tr>\n",
       "      <th>59</th>\n",
       "      <td>0.07</td>\n",
       "      <td>0.02</td>\n",
       "      <td>0.01</td>\n",
       "      <td>0.02</td>\n",
       "      <td>0.02</td>\n",
       "      <td>0.00</td>\n",
       "      <td>Education</td>\n",
       "    </tr>\n",
       "    <tr>\n",
       "      <th>60</th>\n",
       "      <td>0.05</td>\n",
       "      <td>0.03</td>\n",
       "      <td>0.00</td>\n",
       "      <td>0.00</td>\n",
       "      <td>0.01</td>\n",
       "      <td>0.01</td>\n",
       "      <td>Education</td>\n",
       "    </tr>\n",
       "    <tr>\n",
       "      <th>61</th>\n",
       "      <td>0.05</td>\n",
       "      <td>0.00</td>\n",
       "      <td>0.00</td>\n",
       "      <td>0.01</td>\n",
       "      <td>0.01</td>\n",
       "      <td>0.00</td>\n",
       "      <td>Education</td>\n",
       "    </tr>\n",
       "  </tbody>\n",
       "</table>\n",
       "<p>62 rows × 7 columns</p>\n",
       "</div>"
      ],
      "text/plain": [
       "    Education  Family  Industry *  Agriculture  Military *  Leaders  \\\n",
       "0        0.00    0.03        0.16         0.10        0.00     0.00   \n",
       "1        0.11    0.09        0.03         0.00        0.00     0.00   \n",
       "2        0.00    0.00        0.30         0.00        0.00     0.00   \n",
       "3        0.06    0.18        0.00         0.01        0.00     0.00   \n",
       "4        0.04    0.06        0.23         0.01        0.00     0.00   \n",
       "..        ...     ...         ...          ...         ...      ...   \n",
       "57       0.02    0.06        0.01         0.01        0.03     0.15   \n",
       "58       0.04    0.01        0.07         0.06        0.04     0.02   \n",
       "59       0.07    0.02        0.01         0.02        0.02     0.00   \n",
       "60       0.05    0.03        0.00         0.00        0.01     0.01   \n",
       "61       0.05    0.00        0.00         0.01        0.01     0.00   \n",
       "\n",
       "   dominant_topic  \n",
       "0      Industry *  \n",
       "1       Education  \n",
       "2      Industry *  \n",
       "3          Family  \n",
       "4      Industry *  \n",
       "..            ...  \n",
       "57        Leaders  \n",
       "58     Industry *  \n",
       "59      Education  \n",
       "60      Education  \n",
       "61      Education  \n",
       "\n",
       "[62 rows x 7 columns]"
      ]
     },
     "execution_count": 17,
     "metadata": {},
     "output_type": "execute_result"
    }
   ],
   "source": [
    "import numpy as np\n",
    "topics = ['Education', 'Leaders (1)', 'Family', 'Leaders (2)', 'Industry *', 'Agriculture', 'Military *']\n",
    "topic_res = pd.DataFrame(np.round(nmf_output[indices_before_stars], 2), columns=topics)\n",
    "topic_res['Leaders'] = topic_res['Leaders (1)'] + topic_res['Leaders (2)'] \n",
    "topic_res.drop([ 'Leaders (1)', 'Leaders (2)'], inplace=True, axis=1)\n",
    "topic_res['dominant_topic'] = [topic_res.columns[max] for max in np.argmax(topic_res.values, axis=1)]\n",
    "topic_res"
   ]
  },
  {
   "cell_type": "markdown",
   "metadata": {},
   "source": [
    "### 3.1. Charting the distribution"
   ]
  },
  {
   "cell_type": "code",
   "execution_count": 18,
   "metadata": {},
   "outputs": [
    {
     "data": {
      "text/plain": [
       "Education      15\n",
       "Industry *     14\n",
       "Military *     14\n",
       "Leaders        13\n",
       "Family          3\n",
       "Agriculture     3\n",
       "Name: dominant_topic, dtype: int64"
      ]
     },
     "execution_count": 18,
     "metadata": {},
     "output_type": "execute_result"
    }
   ],
   "source": [
    "topic_res['dominant_topic'].value_counts()"
   ]
  },
  {
   "cell_type": "code",
   "execution_count": 19,
   "metadata": {},
   "outputs": [
    {
     "data": {
      "text/plain": [
       "<matplotlib.patches.Circle at 0x24ab2929908>"
      ]
     },
     "execution_count": 19,
     "metadata": {},
     "output_type": "execute_result"
    },
    {
     "data": {
      "image/png": "[encoded data removed]",
      "text/plain": [
       "<Figure size 576x576 with 1 Axes>"
      ]
     },
     "metadata": {},
     "output_type": "display_data"
    }
   ],
   "source": [
    "%matplotlib inline\n",
    "import matplotlib.pyplot as plt\n",
    "\n",
    "import matplotlib\n",
    "import matplotlib.font_manager as fm\n",
    "\n",
    "matplotlib.rc('font', family=fm.FontProperties(fname='C:\\\\Windows\\\\Fonts\\\\arial.ttf').get_name(), size=22)\n",
    "topic_columns = list(topic_res.columns)\n",
    "topic_columns.pop(topic_columns.index('dominant_topic'))\n",
    "colors_gender = ['#fc8d59','#fee090','#4575b4','#d73027','#e0f3f8','#91bfdb']\n",
    "ax=topic_res['dominant_topic'].value_counts().plot.pie(colors=colors_gender, autopct='%1.1f%%', title='', figsize=(8,8), startangle=90, pctdistance=0.82, explode=len(topic_columns)*[0.05])\n",
    "ax.set_ylabel('')\n",
    "centre_circle = plt.Circle((0,0),0.67,fc='white')\n",
    "fig = plt.gcf()\n",
    "fig.gca().add_artist(centre_circle)"
   ]
  },
  {
   "cell_type": "markdown",
   "metadata": {},
   "source": [
    "### 3.2. Assessing significance of differences with permutation test\n",
    "\n",
    "We separate between the subgroup we are interested in (canonized writers before canonization) and the rest."
   ]
  },
  {
   "cell_type": "code",
   "execution_count": 30,
   "metadata": {},
   "outputs": [],
   "source": [
    "indices_not_stars = [i for i in range(len(ori_df)) if i not in indices_before_stars]"
   ]
  },
  {
   "cell_type": "markdown",
   "metadata": {},
   "source": [
    "We merge the leaders columns"
   ]
  },
  {
   "cell_type": "code",
   "execution_count": 31,
   "metadata": {},
   "outputs": [],
   "source": [
    "topics_before_stars = np.column_stack([np.round(nmf_output[indices_before_stars], 2)[:,0], np.round(nmf_output[indices_before_stars], 2)[:,1] + np.round(nmf_output[indices_before_stars], 2)[:,3], np.round(nmf_output[indices_before_stars], 2)[:,2], np.round(nmf_output[indices_before_stars], 2)[:,4:]])"
   ]
  },
  {
   "cell_type": "code",
   "execution_count": 32,
   "metadata": {},
   "outputs": [],
   "source": [
    "topics_not_stars = np.column_stack([np.round(nmf_output[indices_not_stars], 2)[:,0], np.round(nmf_output[indices_not_stars], 2)[:,1] + np.round(nmf_output[indices_not_stars], 2)[:,3], np.round(nmf_output[indices_not_stars], 2)[:,2], np.round(nmf_output[indices_not_stars], 2)[:,4:]])"
   ]
  },
  {
   "cell_type": "code",
   "execution_count": 21,
   "metadata": {},
   "outputs": [],
   "source": [
    "# http://www2.stat.duke.edu/~ar182/rr/examples-gallery/PermutationTest.html\n",
    "\n",
    "def run_permutation_test(pooled,sizeZ,sizeY,delta):\n",
    "    np.random.shuffle(pooled)\n",
    "    starZ = pooled[:sizeZ]\n",
    "    starY = pooled[-sizeY:]\n",
    "    return starZ.mean() - starY.mean()"
   ]
  },
  {
   "cell_type": "code",
   "execution_count": 20,
   "metadata": {},
   "outputs": [],
   "source": [
    "# one hot encoding of dominant topic\n",
    "def dominant_as_binary_array(a):\n",
    "    b = np.zeros_like(a)\n",
    "    b[np.arange(len(a)), a.argmax(1)] = 1\n",
    "    return b\n",
    "\n",
    "#dominant_as_binary_array(topics_before_stars)"
   ]
  },
  {
   "cell_type": "code",
   "execution_count": 36,
   "metadata": {},
   "outputs": [
    {
     "name": "stdout",
     "output_type": "stream",
     "text": [
      "TOPIC: Education\n",
      "theta_hat: -0.021001579066095177\n",
      "hat_asl_perm: 0.601\n",
      "--------------------\n",
      "TOPIC: Leaders\n",
      "theta_hat: 0.0005865102639296405\n",
      "hat_asl_perm: 0.40800000000000003\n",
      "--------------------\n",
      "TOPIC: Family\n",
      "theta_hat: -0.03762688923979246\n",
      "hat_asl_perm: 0.778\n",
      "--------------------\n",
      "TOPIC: Industry\n",
      "theta_hat: 0.10272952853598014\n",
      "hat_asl_perm: 0.006000000000000005\n",
      "--------------------\n",
      "TOPIC: Agriculture\n",
      "theta_hat: -0.10825625986916311\n",
      "hat_asl_perm: 0.984\n",
      "--------------------\n",
      "TOPIC: Military\n",
      "theta_hat: 0.06356868937514099\n",
      "hat_asl_perm: 0.06699999999999995\n",
      "--------------------\n"
     ]
    }
   ],
   "source": [
    "np.random.seed(7)\n",
    "reframed_topics = ['Education', 'Leaders', 'Family', 'Industry', 'Agriculture', 'Military']\n",
    "for i, topic in enumerate(reframed_topics):\n",
    "    print(f\"TOPIC: {topic}\")\n",
    "    z = dominant_as_binary_array(topics_before_stars)[:,i]\n",
    "    y = dominant_as_binary_array(topics_not_stars)[:,i]\n",
    "    #z = (topics_before_stars)[:,i]\n",
    "    #y = (topics_not_stars)[:,i]\n",
    "    theta_hat = z.mean() - y.mean()\n",
    "    print(f\"theta_hat: {theta_hat}\")\n",
    "    pooled = np.hstack([z,y])\n",
    "    delta = z.mean() - y.mean()\n",
    "    numSamples = 1000\n",
    "    estimates = np.array(list(map(lambda x: run_permutation_test(pooled,z.size,y.size,delta),range(numSamples))))\n",
    "    diffCount = len(np.where(estimates <=delta)[0])\n",
    "    hat_asl_perm = 1.0 - (float(diffCount)/float(numSamples))\n",
    "    print(f\"hat_asl_perm: {hat_asl_perm}\")\n",
    "    print('-'*20)"
   ]
  },
  {
   "cell_type": "markdown",
   "metadata": {},
   "source": [
    "## 4. Topic distribution for canonized writers after canonization"
   ]
  },
  {
   "cell_type": "markdown",
   "metadata": {},
   "source": [
    "### 4.1. Counting the number of stories concerned"
   ]
  },
  {
   "cell_type": "code",
   "execution_count": 219,
   "metadata": {},
   "outputs": [
    {
     "name": "stdout",
     "output_type": "stream",
     "text": [
      "백남룡 : 3\n",
      "리신현 : 0\n",
      "김삼복 : 1\n",
      "윤경찬 : 1\n",
      "안동춘 : 6\n",
      "탁숙본 : 5\n",
      "백보흠 : 4\n",
      "정기종 : 5\n",
      "김수경 : 0\n",
      "림봉철 : 1\n",
      "리동구 : 1\n",
      "박태수 : 0\n",
      "전흥식 : 0\n",
      "최영조 : 1\n",
      "윤정길 : 0\n",
      "진재환 : 1\n",
      "조권일 : 0\n",
      "허춘식 : 0\n",
      "권정웅 : 4\n",
      "김병훈 : 4\n",
      "남대현 : 1\n",
      "리종렬 : 2\n",
      "박룡운 : 0\n",
      "석윤기 : 0\n",
      "최학수 : 3\n",
      "현승걸 : 3\n"
     ]
    }
   ],
   "source": [
    "for author, year in author_by_year.items():\n",
    "    print(f\"{author} : {sum(ori_df[ori_df['year'] >= year]['no_space'].apply(lambda x: is_author_present(author, x)))}\")"
   ]
  },
  {
   "cell_type": "code",
   "execution_count": 38,
   "metadata": {},
   "outputs": [],
   "source": [
    "indices_after_stars = []\n",
    "for author, year in author_by_year.items():\n",
    "    author_present = ori_df['no_space'].apply(lambda x: is_author_present(author, x))\n",
    "    after_famous = ori_df['year'] >= year\n",
    "    indices_after_stars += [i for i, found in enumerate(list(author_present & after_famous)) if found]"
   ]
  },
  {
   "cell_type": "code",
   "execution_count": 39,
   "metadata": {},
   "outputs": [
    {
     "data": {
      "text/plain": [
       "46"
      ]
     },
     "execution_count": 39,
     "metadata": {},
     "output_type": "execute_result"
    }
   ],
   "source": [
    "len(indices_after_stars)"
   ]
  },
  {
   "cell_type": "code",
   "execution_count": 40,
   "metadata": {},
   "outputs": [],
   "source": [
    "import numpy as np\n",
    "topics = ['Education', 'Leaders (1)', 'Family', 'Leaders (2)', 'Industry', 'Agriculture', 'Military']\n",
    "topic_res = pd.DataFrame(np.round(nmf_output[indices_after_stars], 2), columns=topics)\n",
    "topic_res['Leaders *'] = topic_res['Leaders (1)'] + topic_res['Leaders (2)'] \n",
    "topic_res.drop([ 'Leaders (1)', 'Leaders (2)'], inplace=True, axis=1)\n",
    "topic_res['dominant_topic'] = [topic_res.columns[max] for max in np.argmax(topic_res.values, axis=1)]"
   ]
  },
  {
   "cell_type": "markdown",
   "metadata": {},
   "source": [
    "### 4.2. Charting the topic distribution"
   ]
  },
  {
   "cell_type": "code",
   "execution_count": 41,
   "metadata": {},
   "outputs": [
    {
     "data": {
      "text/plain": [
       "Leaders *      28\n",
       "Education       6\n",
       "Military        5\n",
       "Industry        4\n",
       "Agriculture     2\n",
       "Family          1\n",
       "Name: dominant_topic, dtype: int64"
      ]
     },
     "execution_count": 41,
     "metadata": {},
     "output_type": "execute_result"
    }
   ],
   "source": [
    "topic_res['dominant_topic'].value_counts()"
   ]
  },
  {
   "cell_type": "code",
   "execution_count": 42,
   "metadata": {},
   "outputs": [
    {
     "data": {
      "text/plain": [
       "<matplotlib.patches.Circle at 0x24ab236cf48>"
      ]
     },
     "execution_count": 42,
     "metadata": {},
     "output_type": "execute_result"
    },
    {
     "data": {
      "image/png": "[encoded data removed]",
      "text/plain": [
       "<Figure size 576x576 with 1 Axes>"
      ]
     },
     "metadata": {},
     "output_type": "display_data"
    }
   ],
   "source": [
    "%matplotlib inline\n",
    "import matplotlib.pyplot as plt\n",
    "\n",
    "import matplotlib\n",
    "import matplotlib.font_manager as fm\n",
    "\n",
    "matplotlib.rc('font', family=fm.FontProperties(fname='C:\\\\Windows\\\\Fonts\\\\arial.ttf').get_name(), size=22)\n",
    "\n",
    "colors_gender = ['#d73027','#fc8d59','#fee090','#4575b4','#e0f3f8','#91bfdb']\n",
    "ax=topic_res['dominant_topic'].value_counts().plot.pie(colors=colors_gender, autopct='%1.1f%%', title='', figsize=(8,8), startangle=90, pctdistance=0.82, explode=len(topic_columns)*[0.05])\n",
    "ax.set_ylabel('')\n",
    "centre_circle = plt.Circle((0,0),0.67,fc='white')\n",
    "fig = plt.gcf()\n",
    "fig.gca().add_artist(centre_circle)"
   ]
  },
  {
   "cell_type": "code",
   "execution_count": 43,
   "metadata": {},
   "outputs": [],
   "source": [
    "topics_after_stars = np.column_stack([np.round(nmf_output[indices_after_stars], 2)[:,0], np.round(nmf_output[indices_after_stars], 2)[:,1] + np.round(nmf_output[indices_after_stars], 2)[:,3], np.round(nmf_output[indices_after_stars], 2)[:,2], np.round(nmf_output[indices_after_stars], 2)[:,4:]])"
   ]
  },
  {
   "cell_type": "code",
   "execution_count": 46,
   "metadata": {},
   "outputs": [],
   "source": [
    "indices_not_after_stars = [i for i in range(len(ori_df)) if i not in topics_after_stars]\n",
    "topics_not_after_stars = np.column_stack([np.round(nmf_output[indices_not_after_stars], 2)[:,0], np.round(nmf_output[indices_not_after_stars], 2)[:,1] + np.round(nmf_output[indices_not_after_stars], 2)[:,3], np.round(nmf_output[indices_not_after_stars], 2)[:,2], np.round(nmf_output[indices_not_after_stars], 2)[:,4:]])"
   ]
  },
  {
   "cell_type": "markdown",
   "metadata": {},
   "source": [
    "### 4.3. Assessing significance of differences with permutation test"
   ]
  },
  {
   "cell_type": "code",
   "execution_count": 54,
   "metadata": {},
   "outputs": [
    {
     "name": "stdout",
     "output_type": "stream",
     "text": [
      "TOPIC: Education\n",
      "theta_hat: -0.13180532470183418\n",
      "hat_asl_perm: 0.973\n",
      "--------------------\n",
      "TOPIC: Leaders\n",
      "theta_hat: 0.3994401189747179\n",
      "hat_asl_perm: 0.0\n",
      "--------------------\n",
      "TOPIC: Family\n",
      "theta_hat: -0.06276791181873852\n",
      "hat_asl_perm: 0.908\n",
      "--------------------\n",
      "TOPIC: Industry\n",
      "theta_hat: -0.04047473245268715\n",
      "hat_asl_perm: 0.7130000000000001\n",
      "--------------------\n",
      "TOPIC: Agriculture\n",
      "theta_hat: -0.10876855334907998\n",
      "hat_asl_perm: 0.971\n",
      "--------------------\n",
      "TOPIC: Military\n",
      "theta_hat: -0.05562359665237805\n",
      "hat_asl_perm: 0.759\n",
      "--------------------\n"
     ]
    }
   ],
   "source": [
    "np.random.seed(7)\n",
    "reframed_topics = ['Education', 'Leaders', 'Family', 'Industry', 'Agriculture', 'Military']\n",
    "for i, topic in enumerate(reframed_topics):\n",
    "    print(f\"TOPIC: {topic}\")\n",
    "    z = dominant_as_binary_array(topics_after_stars)[:,i]\n",
    "    y = dominant_as_binary_array(topics_not_after_stars)[:,i]\n",
    "    #z = (topics_after_stars)[:,i]\n",
    "    #y = (topics_not_after_stars)[:,i]\n",
    "    theta_hat = z.mean() - y.mean()\n",
    "    print(f\"theta_hat: {theta_hat}\")\n",
    "    pooled = np.hstack([z,y])\n",
    "    delta = z.mean() - y.mean()\n",
    "    numSamples = 1000\n",
    "    estimates = np.array(list(map(lambda x: run_permutation_test(pooled,z.size,y.size,delta),range(numSamples))))\n",
    "    diffCount = len(np.where(estimates <=delta)[0])\n",
    "    hat_asl_perm = 1.0 - (float(diffCount)/float(numSamples))\n",
    "    print(f\"hat_asl_perm: {hat_asl_perm}\")\n",
    "    print('-'*20)"
   ]
  },
  {
   "cell_type": "markdown",
   "metadata": {},
   "source": [
    "## 5. Topic distribution for the new guard (authors canonized after 1991) before canonization"
   ]
  },
  {
   "cell_type": "code",
   "execution_count": 56,
   "metadata": {},
   "outputs": [],
   "source": [
    "indices_young_before_stars = []\n",
    "\n",
    "for author, year in author_by_year.items():\n",
    "    if year < 1991:\n",
    "        continue\n",
    "    author_present = ori_df['no_space'].apply(lambda x: is_author_present(author, x))\n",
    "    before_famous = ori_df['year'] < year\n",
    "    indices_young_before_stars += [i for i, found in enumerate(list(author_present & before_famous)) if found]"
   ]
  },
  {
   "cell_type": "code",
   "execution_count": 57,
   "metadata": {},
   "outputs": [
    {
     "data": {
      "text/plain": [
       "44"
      ]
     },
     "execution_count": 57,
     "metadata": {},
     "output_type": "execute_result"
    }
   ],
   "source": [
    "len(indices_young_before_stars)"
   ]
  },
  {
   "cell_type": "code",
   "execution_count": 58,
   "metadata": {},
   "outputs": [],
   "source": [
    "import numpy as np\n",
    "topics = ['Education', 'Leaders (1)', 'Family', 'Leaders (2)', 'Industry', 'Agriculture *', 'Military *']\n",
    "topic_res = pd.DataFrame(np.round(nmf_output[indices_young_before_stars], 2), columns=topics)\n",
    "topic_res['Leaders'] = topic_res['Leaders (1)'] + topic_res['Leaders (2)'] \n",
    "topic_res.drop([ 'Leaders (1)', 'Leaders (2)'], inplace=True, axis=1)\n",
    "topic_res['dominant_topic'] = [topic_res.columns[max] for max in np.argmax(topic_res.values, axis=1)]"
   ]
  },
  {
   "cell_type": "markdown",
   "metadata": {},
   "source": [
    "### 5.1. Charting topic distribution for the new guard"
   ]
  },
  {
   "cell_type": "code",
   "execution_count": 60,
   "metadata": {},
   "outputs": [
    {
     "data": {
      "text/plain": [
       "Industry          8\n",
       "Military *       12\n",
       "Leaders           8\n",
       "Agriculture *     3\n",
       "Family            2\n",
       "Education        11\n",
       "Name: dominant_topic, dtype: int64"
      ]
     },
     "execution_count": 60,
     "metadata": {},
     "output_type": "execute_result"
    }
   ],
   "source": [
    "topic_res['dominant_topic'].value_counts().reindex(topic_res.dominant_topic.unique(), fill_value=0)"
   ]
  },
  {
   "cell_type": "code",
   "execution_count": 328,
   "metadata": {},
   "outputs": [
    {
     "data": {
      "text/plain": [
       "['Education', 'Family', 'Industry', 'Agriculture', 'Military', 'Leaders']"
      ]
     },
     "execution_count": 328,
     "metadata": {},
     "output_type": "execute_result"
    }
   ],
   "source": [
    "topic_columns"
   ]
  },
  {
   "cell_type": "code",
   "execution_count": 61,
   "metadata": {},
   "outputs": [
    {
     "data": {
      "text/plain": [
       "<matplotlib.patches.Circle at 0x24ab1bd9608>"
      ]
     },
     "execution_count": 61,
     "metadata": {},
     "output_type": "execute_result"
    },
    {
     "data": {
      "image/png": "[encoded data removed]",
      "text/plain": [
       "<Figure size 576x576 with 1 Axes>"
      ]
     },
     "metadata": {},
     "output_type": "display_data"
    }
   ],
   "source": [
    "%matplotlib inline\n",
    "import matplotlib.pyplot as plt\n",
    "\n",
    "import matplotlib\n",
    "import matplotlib.font_manager as fm\n",
    "\n",
    "matplotlib.rc('font', family=fm.FontProperties(fname='C:\\\\Windows\\\\Fonts\\\\arial.ttf').get_name(), size=22)\n",
    "topic_columns = list(topic_res.columns)\n",
    "topic_columns.pop(topic_columns.index('dominant_topic'))\n",
    "colors_gender = ['#fee090','#fc8d59','#4575b4','#d73027','#e0f3f8','#91bfdb']\n",
    "ax=topic_res['dominant_topic'].value_counts().plot.pie(colors=colors_gender, autopct='%1.1f%%', title='', figsize=(8,8), startangle=90, pctdistance=0.82, explode=len(topic_columns)*[0.05])\n",
    "ax.set_ylabel('')\n",
    "centre_circle = plt.Circle((0,0),0.67,fc='white')\n",
    "fig = plt.gcf()\n",
    "fig.gca().add_artist(centre_circle)"
   ]
  },
  {
   "cell_type": "markdown",
   "metadata": {},
   "source": [
    "### 5.2. Data for statistical significance study (used later)"
   ]
  },
  {
   "cell_type": "code",
   "execution_count": 62,
   "metadata": {},
   "outputs": [],
   "source": [
    "topics_young_before_stars = np.column_stack([np.round(nmf_output[indices_young_before_stars], 2)[:,0], np.round(nmf_output[indices_young_before_stars], 2)[:,1] + np.round(nmf_output[indices_young_before_stars], 2)[:,3], np.round(nmf_output[indices_young_before_stars], 2)[:,2], np.round(nmf_output[indices_young_before_stars], 2)[:,4:]])"
   ]
  },
  {
   "cell_type": "code",
   "execution_count": 63,
   "metadata": {},
   "outputs": [],
   "source": [
    "indices_not_young_before_stars = [i for i in range(len(ori_df)) if i not in indices_young_before_stars]\n",
    "topics_not_young_before_stars = np.column_stack([np.round(nmf_output[indices_not_young_before_stars], 2)[:,0], np.round(nmf_output[indices_not_young_before_stars], 2)[:,1] + np.round(nmf_output[indices_not_young_before_stars], 2)[:,3], np.round(nmf_output[indices_not_young_before_stars], 2)[:,2], np.round(nmf_output[indices_not_young_before_stars], 2)[:,4:]])"
   ]
  },
  {
   "cell_type": "markdown",
   "metadata": {},
   "source": [
    "## 6. Topic distribution for the old guard (authors canonized before 1991) before canonization"
   ]
  },
  {
   "cell_type": "code",
   "execution_count": 65,
   "metadata": {},
   "outputs": [],
   "source": [
    "indices_old_before_stars = []\n",
    "\n",
    "for author, year in author_by_year.items():\n",
    "    if year >= 1991:\n",
    "        continue\n",
    "    author_present = ori_df['no_space'].apply(lambda x: is_author_present(author, x))\n",
    "    before_famous = ori_df['year'] < year\n",
    "    indices_old_before_stars += [i for i, found in enumerate(list(author_present & before_famous)) if found]"
   ]
  },
  {
   "cell_type": "code",
   "execution_count": 66,
   "metadata": {},
   "outputs": [
    {
     "data": {
      "text/plain": [
       "18"
      ]
     },
     "execution_count": 66,
     "metadata": {},
     "output_type": "execute_result"
    }
   ],
   "source": [
    "len(indices_old_before_stars)"
   ]
  },
  {
   "cell_type": "code",
   "execution_count": 67,
   "metadata": {},
   "outputs": [],
   "source": [
    "import numpy as np\n",
    "topics = ['Education', 'Leaders (1)', 'Family', 'Leaders (2)', 'Industry', 'Agriculture *', 'Military *']\n",
    "topic_res = pd.DataFrame(np.round(nmf_output[indices_old_before_stars], 2), columns=topics)\n",
    "topic_res['Leaders'] = topic_res['Leaders (1)'] + topic_res['Leaders (2)'] \n",
    "topic_res.drop([ 'Leaders (1)', 'Leaders (2)'], inplace=True, axis=1)\n",
    "topic_res['dominant_topic'] = [topic_res.columns[max] for max in np.argmax(topic_res.values, axis=1)]"
   ]
  },
  {
   "cell_type": "markdown",
   "metadata": {},
   "source": [
    "### 6.1. Plotting topic distribution for the old guard"
   ]
  },
  {
   "cell_type": "code",
   "execution_count": 68,
   "metadata": {},
   "outputs": [
    {
     "data": {
      "text/plain": [
       "Education        4.000000e+00\n",
       "Family           1.000000e+00\n",
       "Industry         6.000000e+00\n",
       "Agriculture *    1.000000e-07\n",
       "Military *       2.000000e+00\n",
       "Leaders          5.000000e+00\n",
       "Name: dominant_topic, dtype: float64"
      ]
     },
     "execution_count": 68,
     "metadata": {},
     "output_type": "execute_result"
    }
   ],
   "source": [
    "topic_columns = list(topic_res.columns)\n",
    "topic_columns.pop(topic_columns.index('dominant_topic'))\n",
    "topic_res['dominant_topic'].value_counts(sort=False).reindex(topic_columns, fill_value=0.0000001)"
   ]
  },
  {
   "cell_type": "code",
   "execution_count": 70,
   "metadata": {},
   "outputs": [
    {
     "data": {
      "text/plain": [
       "<matplotlib.patches.Circle at 0x24aafe8a748>"
      ]
     },
     "execution_count": 70,
     "metadata": {},
     "output_type": "execute_result"
    },
    {
     "data": {
      "image/png": "[encoded data removed]",
      "text/plain": [
       "<Figure size 576x576 with 1 Axes>"
      ]
     },
     "metadata": {},
     "output_type": "display_data"
    }
   ],
   "source": [
    "%matplotlib inline\n",
    "import matplotlib.pyplot as plt\n",
    "\n",
    "import matplotlib\n",
    "import matplotlib.font_manager as fm\n",
    "\n",
    "matplotlib.rc('font', family=fm.FontProperties(fname='C:\\\\Windows\\\\Fonts\\\\arial.ttf').get_name(), size=22)\n",
    "\n",
    "colors_gender = ['#d73027','#fc8d59','#fee090','#4575b4','#e0f3f8','#91bfdb']\n",
    "ax=topic_res['dominant_topic'].value_counts().reindex(topic_columns, fill_value=0.0000001).plot.pie(colors=colors_gender, autopct='%1.1f%%', title='', figsize=(8,8), startangle=90, pctdistance=0.82, explode=len(topic_columns)*[0.05])\n",
    "ax.set_ylabel('')\n",
    "centre_circle = plt.Circle((0,0),0.67,fc='white')\n",
    "fig = plt.gcf()\n",
    "fig.gca().add_artist(centre_circle)"
   ]
  },
  {
   "cell_type": "code",
   "execution_count": 71,
   "metadata": {},
   "outputs": [],
   "source": [
    "topics_old_before_stars = np.column_stack([np.round(nmf_output[indices_old_before_stars], 2)[:,0], np.round(nmf_output[indices_old_before_stars], 2)[:,1] + np.round(nmf_output[indices_old_before_stars], 2)[:,3], np.round(nmf_output[indices_old_before_stars], 2)[:,2], np.round(nmf_output[indices_old_before_stars], 2)[:,4:]])"
   ]
  },
  {
   "cell_type": "code",
   "execution_count": 72,
   "metadata": {},
   "outputs": [],
   "source": [
    "indices_not_old_before_stars = [i for i in range(len(ori_df)) if i not in indices_old_before_stars]\n",
    "topics_not_old_before_stars = np.column_stack([np.round(nmf_output[indices_not_old_before_stars], 2)[:,0], np.round(nmf_output[indices_not_old_before_stars], 2)[:,1] + np.round(nmf_output[indices_not_old_before_stars], 2)[:,3], np.round(nmf_output[indices_not_old_before_stars], 2)[:,2], np.round(nmf_output[indices_not_old_before_stars], 2)[:,4:]])"
   ]
  },
  {
   "cell_type": "markdown",
   "metadata": {},
   "source": [
    "### 6.2. Assessing significance of differences between the two groups"
   ]
  },
  {
   "cell_type": "code",
   "execution_count": 76,
   "metadata": {},
   "outputs": [
    {
     "name": "stdout",
     "output_type": "stream",
     "text": [
      "TOPIC: Education\n",
      "theta_hat: 0.02777777777777779\n",
      "hat_asl_perm: 0.28400000000000003\n",
      "--------------------\n",
      "TOPIC: Leaders\n",
      "theta_hat: -0.09595959595959597\n",
      "hat_asl_perm: 0.7050000000000001\n",
      "--------------------\n",
      "TOPIC: Family\n",
      "theta_hat: -0.010101010101010097\n",
      "hat_asl_perm: 0.346\n",
      "--------------------\n",
      "TOPIC: Industry\n",
      "theta_hat: -0.1515151515151515\n",
      "hat_asl_perm: 0.821\n",
      "--------------------\n",
      "TOPIC: Agriculture\n",
      "theta_hat: 0.06818181818181818\n",
      "hat_asl_perm: 0.0\n",
      "--------------------\n",
      "TOPIC: Military\n",
      "theta_hat: 0.1616161616161616\n",
      "hat_asl_perm: 0.03400000000000003\n",
      "--------------------\n"
     ]
    }
   ],
   "source": [
    "np.random.seed(7)\n",
    "reframed_topics = ['Education', 'Leaders', 'Family', 'Industry', 'Agriculture', 'Military']\n",
    "for i, topic in enumerate(reframed_topics):\n",
    "    print(f\"TOPIC: {topic}\")\n",
    "    z = dominant_as_binary_array(topics_young_before_stars)[:,i]\n",
    "    y = dominant_as_binary_array(topics_old_before_stars)[:,i]\n",
    "    #z = (topics_after_stars)[:,i]\n",
    "    #y = (topics_not_after_stars)[:,i]\n",
    "    theta_hat = z.mean() - y.mean()\n",
    "    print(f\"theta_hat: {theta_hat}\")\n",
    "    pooled = np.hstack([z,y])\n",
    "    delta = z.mean() - y.mean()\n",
    "    numSamples = 1000\n",
    "    estimates = np.array(list(map(lambda x: run_permutation_test(pooled,z.size,y.size,delta),range(numSamples))))\n",
    "    diffCount = len(np.where(estimates <=delta)[0])\n",
    "    hat_asl_perm = 1.0 - (float(diffCount)/float(numSamples))\n",
    "    print(f\"hat_asl_perm: {hat_asl_perm}\")\n",
    "    print('-'*20)"
   ]
  }
 ],
 "metadata": {
  "kernelspec": {
   "display_name": "Python 3",
   "language": "python",
   "name": "python3"
  },
  "language_info": {
   "codemirror_mode": {
    "name": "ipython",
    "version": 3
   },
   "file_extension": ".py",
   "mimetype": "text/x-python",
   "name": "python",
   "nbconvert_exporter": "python",
   "pygments_lexer": "ipython3",
   "version": "3.7.4"
  }
 },
 "nbformat": 4,
 "nbformat_minor": 2
}
